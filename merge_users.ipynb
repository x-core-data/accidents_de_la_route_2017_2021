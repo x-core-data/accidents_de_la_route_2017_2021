{
 "cells": [
  {
   "cell_type": "markdown",
   "id": "009213c6-db32-46e4-b54d-4406fd51aedf",
   "metadata": {},
   "source": [
    "### Chargement des librarires nécessaires à l'exploitation des données :"
   ]
  },
  {
   "cell_type": "code",
   "execution_count": 2,
   "id": "e3a4cff1-6881-4fb1-b1c9-cc0144b7b1b0",
   "metadata": {},
   "outputs": [],
   "source": [
    "import pandas as pd\n",
    "import seaborn as sns\n",
    "import matplotlib as plt\n",
    "import numpy as np"
   ]
  },
  {
   "cell_type": "markdown",
   "id": "012521c3-b64d-413e-95ba-69cf66792363",
   "metadata": {},
   "source": [
    "### Chargement des bases de données liées aux utilisateurs avec la méthode \"read_csv\" de pandas pour les années 2017 à 2021 :\n"
   ]
  },
  {
   "cell_type": "code",
   "execution_count": 3,
   "id": "9771acfe-6b70-43fc-90c3-5dcac1307a0f",
   "metadata": {},
   "outputs": [],
   "source": [
    "df_user_2021 = pd.read_csv(\"data/usagers-2021.csv\", sep=';')\n",
    "df_user_2020 = pd.read_csv(\"data/usagers-2020.csv\", sep=';')\n",
    "df_user_2019 = pd.read_csv(\"data/usagers-2019.csv\", sep=';')\n",
    "df_user_2018 = pd.read_csv(\"data/usagers-2018.csv\", sep=',')\n",
    "df_user_2017 = pd.read_csv(\"data/usagers-2017.csv\", sep=',')"
   ]
  },
  {
   "cell_type": "markdown",
   "id": "6370e954-0c42-4b67-ac33-5257163b181a",
   "metadata": {},
   "source": [
    "### Ajouter une colonne \"année_accident\" pour chaque dataframe :"
   ]
  },
  {
   "cell_type": "code",
   "execution_count": 4,
   "id": "b3295a79-6506-47d2-a942-2bf8466fe9c5",
   "metadata": {},
   "outputs": [],
   "source": [
    "df_user_2021 = df_user_2021.assign(annee_accident=2021)\n",
    "df_user_2020 = df_user_2020.assign(annee_accident=2020)\n",
    "df_user_2019 = df_user_2019.assign(annee_accident=2019)\n",
    "df_user_2018 = df_user_2018.assign(annee_accident=2018)\n",
    "df_user_2017 = df_user_2017.assign(annee_accident=2017)"
   ]
  },
  {
   "cell_type": "markdown",
   "id": "2cf02c5f-5a61-47ea-869a-f55889e39456",
   "metadata": {},
   "source": [
    "### Combien d'accidents enregistrés par année ?"
   ]
  },
  {
   "cell_type": "code",
   "execution_count": 5,
   "id": "ce2fea39-7327-4aae-8f7c-0b367f370f00",
   "metadata": {},
   "outputs": [
    {
     "data": {
      "text/html": [
       "<div>\n",
       "<style scoped>\n",
       "    .dataframe tbody tr th:only-of-type {\n",
       "        vertical-align: middle;\n",
       "    }\n",
       "\n",
       "    .dataframe tbody tr th {\n",
       "        vertical-align: top;\n",
       "    }\n",
       "\n",
       "    .dataframe thead th {\n",
       "        text-align: right;\n",
       "    }\n",
       "</style>\n",
       "<table border=\"1\" class=\"dataframe\">\n",
       "  <thead>\n",
       "    <tr style=\"text-align: right;\">\n",
       "      <th></th>\n",
       "      <th>nb_accidents</th>\n",
       "    </tr>\n",
       "  </thead>\n",
       "  <tbody>\n",
       "    <tr>\n",
       "      <th>2017</th>\n",
       "      <td>60701</td>\n",
       "    </tr>\n",
       "    <tr>\n",
       "      <th>2018</th>\n",
       "      <td>57783</td>\n",
       "    </tr>\n",
       "    <tr>\n",
       "      <th>2019</th>\n",
       "      <td>58840</td>\n",
       "    </tr>\n",
       "    <tr>\n",
       "      <th>2020</th>\n",
       "      <td>47744</td>\n",
       "    </tr>\n",
       "    <tr>\n",
       "      <th>2021</th>\n",
       "      <td>56518</td>\n",
       "    </tr>\n",
       "  </tbody>\n",
       "</table>\n",
       "</div>"
      ],
      "text/plain": [
       "      nb_accidents\n",
       "2017         60701\n",
       "2018         57783\n",
       "2019         58840\n",
       "2020         47744\n",
       "2021         56518"
      ]
     },
     "execution_count": 5,
     "metadata": {},
     "output_type": "execute_result"
    }
   ],
   "source": [
    "nb_accidents_2017 = int(str(df_user_2017.iloc[-1,0])[7:12])\n",
    "nb_accidents_2018 = int(str(df_user_2018.iloc[-1,0])[7:12])\n",
    "nb_accidents_2019 = int(str(df_user_2019.iloc[-1,0])[7:12])\n",
    "nb_accidents_2020 = int(str(df_user_2020.iloc[-1,0])[7:12])\n",
    "nb_accidents_2021 = int(str(df_user_2021.iloc[-1,0])[7:12])\n",
    "accident_par_année = {\"nb_accidents\":[nb_accidents_2017, nb_accidents_2018,nb_accidents_2019, nb_accidents_2020, nb_accidents_2021]}\n",
    "pd.DataFrame(data=accident_par_année, index=[2017,2018,2019,2020,2021])"
   ]
  },
  {
   "cell_type": "code",
   "execution_count": 6,
   "id": "f1fbc5df-c008-4579-a53a-5d697364c730",
   "metadata": {},
   "outputs": [],
   "source": [
    "# Utilisation de la méthode \"concat\" pour assembler les cinq dataframes\n",
    "df = [df_user_2017, df_user_2018, df_user_2019, df_user_2020, df_user_2021]\n",
    "user_2017_2021 = pd.concat(df)"
   ]
  },
  {
   "cell_type": "code",
   "execution_count": 7,
   "id": "4f9137a0",
   "metadata": {},
   "outputs": [
    {
     "name": "stdout",
     "output_type": "stream",
     "text": [
      "<class 'pandas.core.frame.DataFrame'>\n",
      "Int64Index: 633615 entries, 0 to 129152\n",
      "Data columns (total 17 columns):\n",
      " #   Column          Non-Null Count   Dtype  \n",
      "---  ------          --------------   -----  \n",
      " 0   Num_Acc         633615 non-null  int64  \n",
      " 1   place           610853 non-null  float64\n",
      " 2   catu            633615 non-null  int64  \n",
      " 3   grav            633615 non-null  int64  \n",
      " 4   sexe            633615 non-null  int64  \n",
      " 5   trajet          633490 non-null  float64\n",
      " 6   secu            253111 non-null  float64\n",
      " 7   locp            578918 non-null  float64\n",
      " 8   actp            578926 non-null  object \n",
      " 9   etatp           578903 non-null  float64\n",
      " 10  an_nais         630481 non-null  float64\n",
      " 11  num_veh         633615 non-null  object \n",
      " 12  annee_accident  633615 non-null  int64  \n",
      " 13  id_vehicule     367425 non-null  object \n",
      " 14  secu1           367425 non-null  float64\n",
      " 15  secu2           367425 non-null  float64\n",
      " 16  secu3           367425 non-null  float64\n",
      "dtypes: float64(9), int64(5), object(3)\n",
      "memory usage: 87.0+ MB\n"
     ]
    }
   ],
   "source": [
    "user_2017_2021.info()"
   ]
  },
  {
   "cell_type": "code",
   "execution_count": 8,
   "id": "83a0eff0",
   "metadata": {},
   "outputs": [
    {
     "ename": "ValueError",
     "evalue": "Unable to parse string \"B\" at position 266418",
     "output_type": "error",
     "traceback": [
      "\u001b[1;31m---------------------------------------------------------------------------\u001b[0m",
      "\u001b[1;31mValueError\u001b[0m                                Traceback (most recent call last)",
      "File \u001b[1;32m~\\miniconda3\\lib\\site-packages\\pandas\\_libs\\lib.pyx:2369\u001b[0m, in \u001b[0;36mpandas._libs.lib.maybe_convert_numeric\u001b[1;34m()\u001b[0m\n",
      "\u001b[1;31mValueError\u001b[0m: Unable to parse string \"B\"",
      "\nDuring handling of the above exception, another exception occurred:\n",
      "\u001b[1;31mValueError\u001b[0m                                Traceback (most recent call last)",
      "Cell \u001b[1;32mIn[8], line 1\u001b[0m\n\u001b[1;32m----> 1\u001b[0m user_2017_2021[\u001b[38;5;124m\"\u001b[39m\u001b[38;5;124mactp\u001b[39m\u001b[38;5;124m\"\u001b[39m] \u001b[38;5;241m=\u001b[39m \u001b[43mpd\u001b[49m\u001b[38;5;241;43m.\u001b[39;49m\u001b[43mto_numeric\u001b[49m\u001b[43m(\u001b[49m\u001b[43muser_2017_2021\u001b[49m\u001b[43m[\u001b[49m\u001b[38;5;124;43m\"\u001b[39;49m\u001b[38;5;124;43mactp\u001b[39;49m\u001b[38;5;124;43m\"\u001b[39;49m\u001b[43m]\u001b[49m\u001b[43m,\u001b[49m\u001b[43m \u001b[49m\u001b[43mdowncast\u001b[49m\u001b[38;5;241;43m=\u001b[39;49m\u001b[38;5;124;43m\"\u001b[39;49m\u001b[38;5;124;43mfloat\u001b[39;49m\u001b[38;5;124;43m\"\u001b[39;49m\u001b[43m)\u001b[49m\n",
      "File \u001b[1;32m~\\miniconda3\\lib\\site-packages\\pandas\\core\\tools\\numeric.py:185\u001b[0m, in \u001b[0;36mto_numeric\u001b[1;34m(arg, errors, downcast)\u001b[0m\n\u001b[0;32m    183\u001b[0m coerce_numeric \u001b[38;5;241m=\u001b[39m errors \u001b[38;5;129;01mnot\u001b[39;00m \u001b[38;5;129;01min\u001b[39;00m (\u001b[38;5;124m\"\u001b[39m\u001b[38;5;124mignore\u001b[39m\u001b[38;5;124m\"\u001b[39m, \u001b[38;5;124m\"\u001b[39m\u001b[38;5;124mraise\u001b[39m\u001b[38;5;124m\"\u001b[39m)\n\u001b[0;32m    184\u001b[0m \u001b[38;5;28;01mtry\u001b[39;00m:\n\u001b[1;32m--> 185\u001b[0m     values, _ \u001b[38;5;241m=\u001b[39m \u001b[43mlib\u001b[49m\u001b[38;5;241;43m.\u001b[39;49m\u001b[43mmaybe_convert_numeric\u001b[49m\u001b[43m(\u001b[49m\n\u001b[0;32m    186\u001b[0m \u001b[43m        \u001b[49m\u001b[43mvalues\u001b[49m\u001b[43m,\u001b[49m\u001b[43m \u001b[49m\u001b[38;5;28;43mset\u001b[39;49m\u001b[43m(\u001b[49m\u001b[43m)\u001b[49m\u001b[43m,\u001b[49m\u001b[43m \u001b[49m\u001b[43mcoerce_numeric\u001b[49m\u001b[38;5;241;43m=\u001b[39;49m\u001b[43mcoerce_numeric\u001b[49m\n\u001b[0;32m    187\u001b[0m \u001b[43m    \u001b[49m\u001b[43m)\u001b[49m\n\u001b[0;32m    188\u001b[0m \u001b[38;5;28;01mexcept\u001b[39;00m (\u001b[38;5;167;01mValueError\u001b[39;00m, \u001b[38;5;167;01mTypeError\u001b[39;00m):\n\u001b[0;32m    189\u001b[0m     \u001b[38;5;28;01mif\u001b[39;00m errors \u001b[38;5;241m==\u001b[39m \u001b[38;5;124m\"\u001b[39m\u001b[38;5;124mraise\u001b[39m\u001b[38;5;124m\"\u001b[39m:\n",
      "File \u001b[1;32m~\\miniconda3\\lib\\site-packages\\pandas\\_libs\\lib.pyx:2411\u001b[0m, in \u001b[0;36mpandas._libs.lib.maybe_convert_numeric\u001b[1;34m()\u001b[0m\n",
      "\u001b[1;31mValueError\u001b[0m: Unable to parse string \"B\" at position 266418"
     ]
    }
   ],
   "source": [
    "user_2017_2021[\"actp\"] = pd.to_numeric(user_2017_2021[\"actp\"], downcast=\"float\")"
   ]
  },
  {
   "cell_type": "code",
   "execution_count": 23,
   "id": "dfbb9247",
   "metadata": {},
   "outputs": [
    {
     "data": {
      "text/plain": [
       "Num_Acc           201900000110\n",
       "place                     10.0\n",
       "catu                         3\n",
       "grav                         3\n",
       "sexe                         1\n",
       "trajet                     4.0\n",
       "secu                       NaN\n",
       "locp                       5.0\n",
       "actp                         B\n",
       "etatp                      1.0\n",
       "an_nais                 2002.0\n",
       "num_veh                    A01\n",
       "annee_accident            2019\n",
       "id_vehicule        138 306 331\n",
       "secu1                      8.0\n",
       "secu2                      0.0\n",
       "secu3                     -1.0\n",
       "Name: 228, dtype: object"
      ]
     },
     "execution_count": 23,
     "metadata": {},
     "output_type": "execute_result"
    }
   ],
   "source": [
    "user_2017_2021.iloc[266418,:]"
   ]
  },
  {
   "cell_type": "code",
   "execution_count": 9,
   "id": "07edf568-f83b-41c3-b6d3-a1e3f49d0967",
   "metadata": {},
   "outputs": [],
   "source": [
    "#remplacement des -1 (non renseigné) par des NaN(Not a Number)\n",
    "user_2017_2021 = user_2017_2021.replace(-1, np.nan)"
   ]
  },
  {
   "cell_type": "code",
   "execution_count": 12,
   "id": "cd3b799a",
   "metadata": {},
   "outputs": [],
   "source": [
    "user_2017_2021.to_csv('user_2017_2021.csv', index=False)"
   ]
  },
  {
   "cell_type": "markdown",
   "id": "f73ee83d-42d7-4445-81d9-1189f8d074fc",
   "metadata": {},
   "source": [
    "### Gravité des blessures par année (en nb d'usagers) :\n"
   ]
  },
  {
   "cell_type": "code",
   "execution_count": 11,
   "id": "95bb4401-3248-42a2-80da-e304ff19afb0",
   "metadata": {},
   "outputs": [
    {
     "data": {
      "image/png": "[encoded data removed]",
      "text/plain": [
       "<Figure size 640x480 with 1 Axes>"
      ]
     },
     "metadata": {},
     "output_type": "display_data"
    }
   ],
   "source": [
    "user_2017_2021.groupby(\"annee_accident\")[\"grav\"].value_counts().plot(kind='barh');"
   ]
  },
  {
   "cell_type": "code",
   "execution_count": null,
   "id": "9b23154b-e4ad-4531-a8c0-30bf91377b9f",
   "metadata": {},
   "outputs": [],
   "source": [
    "user_2017_2021.to_csv('out.csv', index=False)"
   ]
  },
  {
   "cell_type": "code",
   "execution_count": null,
   "id": "bb9fb302",
   "metadata": {},
   "outputs": [],
   "source": [
    "user_2017_2021.loc[user_2017_2021['secu1'] == '']\n"
   ]
  },
  {
   "cell_type": "code",
   "execution_count": null,
   "id": "595877e3",
   "metadata": {},
   "outputs": [],
   "source": [
    "#Convertir une variable codée de 1 à 4 en catégorie pour analyse :\n",
    "\n",
    "# Créer un exemple de DataFrame avec une variable codée de 1 à 4\n",
    "df = pd.DataFrame({'variable': [1, 2, 3, 4, 1, 2, 3, 4]})\n",
    "\n",
    "# Convertir la variable en type 'category' et spécifier l'ordre des catégories\n",
    "df['variable'] = df['variable'].astype('category')\n",
    "df['variable'].cat.set_categories([1, 2, 3, 4], ordered=True, inplace=True)\n",
    "\n",
    "# Vérifier le résultat\n",
    "print(df['variable'])"
   ]
  },
  {
   "cell_type": "code",
   "execution_count": null,
   "id": "6f6f9e64-3dfa-44fc-a66d-6202e1c770b5",
   "metadata": {},
   "outputs": [],
   "source": [
    "# Créer une nouvelle variable binaire mort oui/non à partir de la variable 'grav'\n",
    "usagers['mort'] = (usagers['grav'] == 2).astype(int)\n",
    "\n",
    "# Vérifier le résultat\n",
    "print(usagers[['grav', 'mort']].head())"
   ]
  },
  {
   "cell_type": "markdown",
   "id": "59bb9bf0-21fa-4da2-9dd0-707c4bc4c185",
   "metadata": {},
   "source": [
    "exemples de variables qui pourraient être utiles pour prédire la mort après un accident en utilisant les données des tables lieux et usagers :\n",
    "\n",
    "Caractéristiques de l’accident: Des variables telles que l’heure, le jour, le mois et l’année de l’accident, les conditions d’éclairage (lum), les conditions météorologiques (atm), le type de collision (col), etc. pourraient être utiles pour prédire la gravité d’un accident.\n",
    "\n",
    "Caractéristiques des usagers: Des variables telles que l’âge (an_nais), le sexe (sexe), la catégorie d’usager (catu), le type de véhicule (num_veh), etc. pourraient également être utiles pour prédire la gravité des blessures subies par les usagers impliqués dans un accident.\n",
    "\n",
    "Caractéristiques du lieu: Des variables telles que le département (dep), la commune (com), le type d’agglomération (agg), le type d’intersection (int), etc. pourraient également être utiles pour prédire la gravité d’un accident en fonction du lieu où il s’est produit.\n",
    "\n",
    "Il est important de noter que ces variables ne sont que des exemples et qu’il existe de nombreuses autres variables qui pourraient être utiles pour prédire la mort après un accident. Vous pouvez utiliser des techniques telles que l’analyse exploratoire des données et la sélection des caractéristiques pour identifier les variables les plus importantes pour votre modèle.\n",
    "\n",
    "la variable grav de la table usagers pourrait être très utile pour prédire la mort après un accident. Cette variable indique la gravité des blessures subies par chaque usager impliqué dans un accident. Les valeurs possibles pour cette variable sont les suivantes:\n",
    "\n",
    "1: Indemne\n",
    "2: Tué\n",
    "3: Blessé hospitalisé\n",
    "4: Blessé léger\n",
    "Si vous voulez prédire si un accident aura un mort ou non, vous pouvez utiliser cette variable pour créer votre variable dépendante. Par exemple, vous pouvez créer une nouvelle variable binaire qui prend la valeur 1 si grav est égal à 2 (c’est-à-dire si l’usager a été tué) et 0 sinon (c’est-à-dire si l’usager a été indemne, blessé hospitalisé ou blessé léger).\n",
    "\n",
    "Il est important de noter que la variable grav ne doit pas être utilisée comme une variable indépendante dans votre modèle, car elle contient des informations sur la variable dépendante que vous voulez prédire. Si vous incluez cette variable comme une variable indépendante dans votre modèle, cela pourrait entraîner un surajustement et réduire la capacité de votre modèle à généraliser à de nouvelles données."
   ]
  }
 ],
 "metadata": {
  "kernelspec": {
   "display_name": "Python 3 (ipykernel)",
   "language": "python",
   "name": "python3"
  },
  "language_info": {
   "codemirror_mode": {
    "name": "ipython",
    "version": 3
   },
   "file_extension": ".py",
   "mimetype": "text/x-python",
   "name": "python",
   "nbconvert_exporter": "python",
   "pygments_lexer": "ipython3",
   "version": "3.10.10"
  }
 },
 "nbformat": 4,
 "nbformat_minor": 5
}
