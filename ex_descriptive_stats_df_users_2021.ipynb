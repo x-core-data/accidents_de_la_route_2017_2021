{
 "cells": [
  {
   "cell_type": "markdown",
   "id": "fcdc166b",
   "metadata": {},
   "source": [
    "### Chargement des librarires nécessaires à l'exploitation des données :"
   ]
  },
  {
   "cell_type": "code",
   "execution_count": 8,
   "id": "09c73d6c",
   "metadata": {},
   "outputs": [],
   "source": [
    "import pandas as pd\n",
    "import seaborn as sns\n",
    "import matplotlib as plt\n",
    "import numpy as np"
   ]
  },
  {
   "cell_type": "markdown",
   "id": "23fae9d6",
   "metadata": {},
   "source": [
    "### Chargement des bases de données au format \"csv\" avec la méthode \"read_csv\" de pandas pour l'année 2021 :"
   ]
  },
  {
   "cell_type": "code",
   "execution_count": 9,
   "id": "e8b17d77",
   "metadata": {},
   "outputs": [],
   "source": [
    "df_user_2021 = pd.read_csv(\"data/usagers-2021.csv\", sep=';')"
   ]
  },
  {
   "cell_type": "code",
   "execution_count": 10,
   "id": "cab19f49-3705-4dea-9ca5-f36204657597",
   "metadata": {},
   "outputs": [
    {
     "data": {
      "text/html": [
       "<div>\n",
       "<style scoped>\n",
       "    .dataframe tbody tr th:only-of-type {\n",
       "        vertical-align: middle;\n",
       "    }\n",
       "\n",
       "    .dataframe tbody tr th {\n",
       "        vertical-align: top;\n",
       "    }\n",
       "\n",
       "    .dataframe thead th {\n",
       "        text-align: right;\n",
       "    }\n",
       "</style>\n",
       "<table border=\"1\" class=\"dataframe\">\n",
       "  <thead>\n",
       "    <tr style=\"text-align: right;\">\n",
       "      <th></th>\n",
       "      <th>Num_Acc</th>\n",
       "      <th>id_vehicule</th>\n",
       "      <th>num_veh</th>\n",
       "      <th>place</th>\n",
       "      <th>catu</th>\n",
       "      <th>grav</th>\n",
       "      <th>sexe</th>\n",
       "      <th>an_nais</th>\n",
       "      <th>trajet</th>\n",
       "      <th>secu1</th>\n",
       "      <th>secu2</th>\n",
       "      <th>secu3</th>\n",
       "      <th>locp</th>\n",
       "      <th>actp</th>\n",
       "      <th>etatp</th>\n",
       "    </tr>\n",
       "  </thead>\n",
       "  <tbody>\n",
       "    <tr>\n",
       "      <th>0</th>\n",
       "      <td>202100000001</td>\n",
       "      <td>201 764</td>\n",
       "      <td>B01</td>\n",
       "      <td>1</td>\n",
       "      <td>1</td>\n",
       "      <td>3</td>\n",
       "      <td>1</td>\n",
       "      <td>2000.0</td>\n",
       "      <td>1</td>\n",
       "      <td>0</td>\n",
       "      <td>9</td>\n",
       "      <td>-1</td>\n",
       "      <td>0</td>\n",
       "      <td>0</td>\n",
       "      <td>-1</td>\n",
       "    </tr>\n",
       "    <tr>\n",
       "      <th>1</th>\n",
       "      <td>202100000001</td>\n",
       "      <td>201 765</td>\n",
       "      <td>A01</td>\n",
       "      <td>1</td>\n",
       "      <td>1</td>\n",
       "      <td>1</td>\n",
       "      <td>1</td>\n",
       "      <td>1978.0</td>\n",
       "      <td>1</td>\n",
       "      <td>1</td>\n",
       "      <td>-1</td>\n",
       "      <td>-1</td>\n",
       "      <td>0</td>\n",
       "      <td>0</td>\n",
       "      <td>-1</td>\n",
       "    </tr>\n",
       "    <tr>\n",
       "      <th>2</th>\n",
       "      <td>202100000002</td>\n",
       "      <td>201 762</td>\n",
       "      <td>A01</td>\n",
       "      <td>1</td>\n",
       "      <td>1</td>\n",
       "      <td>4</td>\n",
       "      <td>1</td>\n",
       "      <td>1983.0</td>\n",
       "      <td>0</td>\n",
       "      <td>1</td>\n",
       "      <td>-1</td>\n",
       "      <td>-1</td>\n",
       "      <td>0</td>\n",
       "      <td>0</td>\n",
       "      <td>-1</td>\n",
       "    </tr>\n",
       "    <tr>\n",
       "      <th>3</th>\n",
       "      <td>202100000002</td>\n",
       "      <td>201 763</td>\n",
       "      <td>B01</td>\n",
       "      <td>1</td>\n",
       "      <td>1</td>\n",
       "      <td>3</td>\n",
       "      <td>1</td>\n",
       "      <td>1993.0</td>\n",
       "      <td>0</td>\n",
       "      <td>1</td>\n",
       "      <td>-1</td>\n",
       "      <td>-1</td>\n",
       "      <td>0</td>\n",
       "      <td>0</td>\n",
       "      <td>-1</td>\n",
       "    </tr>\n",
       "    <tr>\n",
       "      <th>4</th>\n",
       "      <td>202100000003</td>\n",
       "      <td>201 761</td>\n",
       "      <td>A01</td>\n",
       "      <td>1</td>\n",
       "      <td>1</td>\n",
       "      <td>1</td>\n",
       "      <td>1</td>\n",
       "      <td>1995.0</td>\n",
       "      <td>1</td>\n",
       "      <td>1</td>\n",
       "      <td>0</td>\n",
       "      <td>-1</td>\n",
       "      <td>0</td>\n",
       "      <td>0</td>\n",
       "      <td>-1</td>\n",
       "    </tr>\n",
       "  </tbody>\n",
       "</table>\n",
       "</div>"
      ],
      "text/plain": [
       "        Num_Acc id_vehicule num_veh  place  catu  grav  sexe  an_nais  trajet  \\\n",
       "0  202100000001     201 764     B01      1     1     3     1   2000.0       1   \n",
       "1  202100000001     201 765     A01      1     1     1     1   1978.0       1   \n",
       "2  202100000002     201 762     A01      1     1     4     1   1983.0       0   \n",
       "3  202100000002     201 763     B01      1     1     3     1   1993.0       0   \n",
       "4  202100000003     201 761     A01      1     1     1     1   1995.0       1   \n",
       "\n",
       "   secu1  secu2  secu3  locp actp  etatp  \n",
       "0      0      9     -1     0    0     -1  \n",
       "1      1     -1     -1     0    0     -1  \n",
       "2      1     -1     -1     0    0     -1  \n",
       "3      1     -1     -1     0    0     -1  \n",
       "4      1      0     -1     0    0     -1  "
      ]
     },
     "execution_count": 10,
     "metadata": {},
     "output_type": "execute_result"
    }
   ],
   "source": [
    "df_user_2021.head()"
   ]
  },
  {
   "cell_type": "code",
   "execution_count": 11,
   "id": "36a0307e-0a59-4544-bfdf-8c7b607ebd45",
   "metadata": {},
   "outputs": [
    {
     "data": {
      "text/plain": [
       "(129153, 15)"
      ]
     },
     "execution_count": 11,
     "metadata": {},
     "output_type": "execute_result"
    }
   ],
   "source": [
    "df_user_2021.shape"
   ]
  },
  {
   "cell_type": "code",
   "execution_count": 24,
   "id": "63172dcb-986c-4450-89d3-fbecebc28f78",
   "metadata": {},
   "outputs": [],
   "source": [
    "#Recodage des valeurs -1 et 0 ('non renseigné') par des NaN\n",
    "df_user_2021 = df_user_2021.replace(-1, np.nan)\n",
    "df_user_2021 = df_user_2021.replace(0, np.nan)"
   ]
  },
  {
   "cell_type": "code",
   "execution_count": 27,
   "id": "78341ddf-1164-4bd5-b632-c87199293b7f",
   "metadata": {},
   "outputs": [
    {
     "data": {
      "image/png": "[encoded data removed]",
      "text/plain": [
       "<Figure size 640x480 with 2 Axes>"
      ]
     },
     "metadata": {},
     "output_type": "display_data"
    }
   ],
   "source": [
    "#Carte thermique pour visualiser les valeurs manquantes par variable\n",
    "sns.heatmap(df_user_2021.isna());"
   ]
  },
  {
   "cell_type": "code",
   "execution_count": 26,
   "id": "6e71ec7f-f1b6-4d96-86b4-bd86de40d1cb",
   "metadata": {},
   "outputs": [
    {
     "data": {
      "text/plain": [
       "Num_Acc         0.000000\n",
       "id_vehicule     0.000000\n",
       "num_veh         0.000000\n",
       "place           0.013163\n",
       "catu            0.000000\n",
       "grav            0.046457\n",
       "sexe            2.370831\n",
       "an_nais         2.374703\n",
       "trajet         27.733773\n",
       "secu1          11.321456\n",
       "secu2          79.050429\n",
       "secu3          99.161460\n",
       "locp           92.810078\n",
       "actp            0.000000\n",
       "etatp          92.796141\n",
       "dtype: float64"
      ]
     },
     "execution_count": 26,
     "metadata": {},
     "output_type": "execute_result"
    }
   ],
   "source": [
    "#pourcentage de valeurs manquantes\n",
    "df_user_2021.isna().sum()/df_user_2021.shape[0]*100"
   ]
  },
  {
   "cell_type": "markdown",
   "id": "a700b728-e87b-49bc-bacd-d7847cd89bc7",
   "metadata": {},
   "source": [
    "Les variables secu2, secu 3, locp et etatp contiennent respectivement 79,1 %, 99,2 %, 92,9 % et 92,8 % de valeurs manquantes/non renseignées (NaN) \n",
    "**-->** variables non pertinentes pour une analyse"
   ]
  },
  {
   "cell_type": "code",
   "execution_count": 18,
   "id": "5ccbe898-88f7-4858-8cbb-276e680bff53",
   "metadata": {},
   "outputs": [
    {
     "data": {
      "text/plain": [
       "60"
      ]
     },
     "execution_count": 18,
     "metadata": {},
     "output_type": "execute_result"
    }
   ],
   "source": [
    "df_user_2021['grav'].isna().sum()"
   ]
  },
  {
   "cell_type": "markdown",
   "id": "68f3e1b7-89eb-43d1-9c49-0a68891dc221",
   "metadata": {},
   "source": [
    "### Répartition de la variable catégorielle \"grav\" où :\n",
    "**1** - Indemne \\\n",
    "**2** - Tué \\\n",
    "**3** - Blesssé hospitalisé \\\n",
    "**4** - Blessé léger "
   ]
  },
  {
   "cell_type": "code",
   "execution_count": 19,
   "id": "437ed07e-a97b-47b4-a410-7edb0597492f",
   "metadata": {},
   "outputs": [],
   "source": [
    "df_count_grav = df_user_2021['grav'].value_counts()"
   ]
  },
  {
   "cell_type": "code",
   "execution_count": 20,
   "id": "7c882fb2-4085-4ec6-95d9-5eb2660e5388",
   "metadata": {},
   "outputs": [
    {
     "data": {
      "text/plain": [
       "1.0    55108\n",
       "4.0    51681\n",
       "3.0    19085\n",
       "2.0     3219\n",
       "Name: grav, dtype: int64"
      ]
     },
     "execution_count": 20,
     "metadata": {},
     "output_type": "execute_result"
    }
   ],
   "source": [
    "df_count_grav"
   ]
  },
  {
   "cell_type": "code",
   "execution_count": 21,
   "id": "f207fea6",
   "metadata": {},
   "outputs": [
    {
     "data": {
      "image/png": "[encoded data removed]",
      "text/plain": [
       "<Figure size 300x300 with 1 Axes>"
      ]
     },
     "metadata": {},
     "output_type": "display_data"
    }
   ],
   "source": [
    "df_count_grav.plot.pie(subplots=True, figsize = (3, 3));"
   ]
  },
  {
   "cell_type": "code",
   "execution_count": 39,
   "id": "6f0f0492-cb51-488c-9d94-58f2a53dd5f5",
   "metadata": {},
   "outputs": [
    {
     "data": {
      "text/plain": [
       "1    97276\n",
       "2    22403\n",
       "3     9474\n",
       "Name: catu, dtype: int64"
      ]
     },
     "execution_count": 39,
     "metadata": {},
     "output_type": "execute_result"
    }
   ],
   "source": [
    "df_user_2021['catu'].value_counts()"
   ]
  },
  {
   "cell_type": "code",
   "execution_count": 41,
   "id": "c6f2252e-4c4b-49f1-978b-1f6309acbed9",
   "metadata": {},
   "outputs": [
    {
     "data": {
      "text/plain": [
       "1.0    75685\n",
       "2.0    23945\n",
       "8.0    13755\n",
       "3.0      821\n",
       "6.0      114\n",
       "9.0      109\n",
       "4.0       75\n",
       "5.0       24\n",
       "7.0        3\n",
       "Name: secu1, dtype: int64"
      ]
     },
     "execution_count": 41,
     "metadata": {},
     "output_type": "execute_result"
    }
   ],
   "source": [
    "df_user_2021['secu1'].value_counts()"
   ]
  },
  {
   "cell_type": "code",
   "execution_count": 45,
   "id": "3807ae10-5dfc-4be3-9e36-a81305fb8c05",
   "metadata": {},
   "outputs": [
    {
     "name": "stdout",
     "output_type": "stream",
     "text": [
      "grav  sexe\n",
      "1.0   1.0     37163\n",
      "      2.0     14943\n",
      "2.0   1.0      2520\n",
      "      2.0       699\n",
      "3.0   1.0     13640\n",
      "      2.0      5445\n",
      "4.0   1.0     32873\n",
      "      2.0     18808\n",
      "Name: sexe, dtype: int64\n"
     ]
    }
   ],
   "source": [
    "#groupons les données du dataframe en fonction de la gravité \n",
    "grouped_grav = df_user_2021.groupby(\"grav\")\n",
    "\n",
    "#accedons à cette nouvelle variable en comptant le nombre d'occurences pour chaque modalité de la variable sexe\n",
    "print(grouped_grav['sexe'].value_counts())"
   ]
  },
  {
   "cell_type": "code",
   "execution_count": 46,
   "id": "f44f69fd-4b5b-4b3f-8066-d7543776c57e",
   "metadata": {},
   "outputs": [
    {
     "name": "stdout",
     "output_type": "stream",
     "text": [
      "grav  trajet\n",
      "1.0   5.0       16647\n",
      "      4.0        7732\n",
      "      1.0        7201\n",
      "      9.0        4416\n",
      "      3.0        1974\n",
      "      2.0         849\n",
      "2.0   5.0        1658\n",
      "      1.0         331\n",
      "      9.0         242\n",
      "      3.0         186\n",
      "      4.0         148\n",
      "      2.0          23\n",
      "3.0   5.0        9257\n",
      "      1.0        2318\n",
      "      9.0        1316\n",
      "      3.0         868\n",
      "      4.0         699\n",
      "      2.0         437\n",
      "4.0   5.0       17861\n",
      "      1.0        7487\n",
      "      9.0        5057\n",
      "      4.0        3602\n",
      "      2.0        1522\n",
      "      3.0        1503\n",
      "Name: trajet, dtype: int64\n"
     ]
    }
   ],
   "source": [
    "#groupons les données du dataframe en fonction de la gravité \n",
    "grouped_grav = df_user_2021.groupby(\"grav\")\n",
    "\n",
    "#accedons à cette nouvelle variable en comptant le nombre d'occurences pour chaque modalité de la variable sexe\n",
    "print(grouped_grav['trajet'].value_counts())"
   ]
  },
  {
   "cell_type": "markdown",
   "id": "6e23a9a5-6e85-48d9-b7e2-ffc72a3c3a54",
   "metadata": {},
   "source": [
    "#### On retrouve davantage d'usagers tués, blessés ou indemnes lors d'accidents survenant sur un trajet \"promenade-loisirs\" : "
   ]
  },
  {
   "cell_type": "code",
   "execution_count": 22,
   "id": "060f7af4-0af0-464a-95cc-49e961e4610c",
   "metadata": {},
   "outputs": [],
   "source": [
    "grav_type_trajet = pd.crosstab(df_user_2021[\"grav\"], df_user_2021[\"trajet\"])"
   ]
  },
  {
   "cell_type": "code",
   "execution_count": 23,
   "id": "b6fb9dce-fc92-44c8-b04d-24ffc151f763",
   "metadata": {},
   "outputs": [
    {
     "data": {
      "text/html": [
       "<div>\n",
       "<style scoped>\n",
       "    .dataframe tbody tr th:only-of-type {\n",
       "        vertical-align: middle;\n",
       "    }\n",
       "\n",
       "    .dataframe tbody tr th {\n",
       "        vertical-align: top;\n",
       "    }\n",
       "\n",
       "    .dataframe thead th {\n",
       "        text-align: right;\n",
       "    }\n",
       "</style>\n",
       "<table border=\"1\" class=\"dataframe\">\n",
       "  <thead>\n",
       "    <tr style=\"text-align: right;\">\n",
       "      <th>trajet</th>\n",
       "      <th>0.0</th>\n",
       "      <th>1.0</th>\n",
       "      <th>2.0</th>\n",
       "      <th>3.0</th>\n",
       "      <th>4.0</th>\n",
       "      <th>5.0</th>\n",
       "      <th>9.0</th>\n",
       "    </tr>\n",
       "    <tr>\n",
       "      <th>grav</th>\n",
       "      <th></th>\n",
       "      <th></th>\n",
       "      <th></th>\n",
       "      <th></th>\n",
       "      <th></th>\n",
       "      <th></th>\n",
       "      <th></th>\n",
       "    </tr>\n",
       "  </thead>\n",
       "  <tbody>\n",
       "    <tr>\n",
       "      <th>1.0</th>\n",
       "      <td>13180</td>\n",
       "      <td>7201</td>\n",
       "      <td>849</td>\n",
       "      <td>1974</td>\n",
       "      <td>7732</td>\n",
       "      <td>16647</td>\n",
       "      <td>4416</td>\n",
       "    </tr>\n",
       "    <tr>\n",
       "      <th>2.0</th>\n",
       "      <td>620</td>\n",
       "      <td>331</td>\n",
       "      <td>23</td>\n",
       "      <td>186</td>\n",
       "      <td>148</td>\n",
       "      <td>1658</td>\n",
       "      <td>242</td>\n",
       "    </tr>\n",
       "    <tr>\n",
       "      <th>3.0</th>\n",
       "      <td>4171</td>\n",
       "      <td>2318</td>\n",
       "      <td>437</td>\n",
       "      <td>868</td>\n",
       "      <td>699</td>\n",
       "      <td>9257</td>\n",
       "      <td>1316</td>\n",
       "    </tr>\n",
       "    <tr>\n",
       "      <th>4.0</th>\n",
       "      <td>14578</td>\n",
       "      <td>7487</td>\n",
       "      <td>1522</td>\n",
       "      <td>1503</td>\n",
       "      <td>3602</td>\n",
       "      <td>17861</td>\n",
       "      <td>5057</td>\n",
       "    </tr>\n",
       "  </tbody>\n",
       "</table>\n",
       "</div>"
      ],
      "text/plain": [
       "trajet    0.0   1.0   2.0   3.0   4.0    5.0   9.0\n",
       "grav                                              \n",
       "1.0     13180  7201   849  1974  7732  16647  4416\n",
       "2.0       620   331    23   186   148   1658   242\n",
       "3.0      4171  2318   437   868   699   9257  1316\n",
       "4.0     14578  7487  1522  1503  3602  17861  5057"
      ]
     },
     "execution_count": 23,
     "metadata": {},
     "output_type": "execute_result"
    }
   ],
   "source": [
    "grav_type_trajet"
   ]
  },
  {
   "cell_type": "markdown",
   "id": "3a0d375a-4ac1-4ada-af6f-cc1502452236",
   "metadata": {},
   "source": [
    "### Quelle est la proportion d'accidents en fonction du type de trajet ?"
   ]
  },
  {
   "cell_type": "code",
   "execution_count": null,
   "id": "dadb8552-7d74-468d-a1c1-3b5ebf142a19",
   "metadata": {},
   "outputs": [],
   "source": []
  },
  {
   "cell_type": "markdown",
   "id": "0b092684",
   "metadata": {},
   "source": [
    "### Suppression des colonnes non nécessaires à l'aide de la méthode \"drop\" :"
   ]
  },
  {
   "cell_type": "code",
   "execution_count": 5,
   "id": "9d3a5f95",
   "metadata": {
    "scrolled": true
   },
   "outputs": [
    {
     "data": {
      "text/html": [
       "<div>\n",
       "<style scoped>\n",
       "    .dataframe tbody tr th:only-of-type {\n",
       "        vertical-align: middle;\n",
       "    }\n",
       "\n",
       "    .dataframe tbody tr th {\n",
       "        vertical-align: top;\n",
       "    }\n",
       "\n",
       "    .dataframe thead th {\n",
       "        text-align: right;\n",
       "    }\n",
       "</style>\n",
       "<table border=\"1\" class=\"dataframe\">\n",
       "  <thead>\n",
       "    <tr style=\"text-align: right;\">\n",
       "      <th></th>\n",
       "      <th>Num_Acc</th>\n",
       "      <th>grav</th>\n",
       "      <th>sexe</th>\n",
       "      <th>an_nais</th>\n",
       "    </tr>\n",
       "  </thead>\n",
       "  <tbody>\n",
       "    <tr>\n",
       "      <th>0</th>\n",
       "      <td>202100000001</td>\n",
       "      <td>3</td>\n",
       "      <td>1</td>\n",
       "      <td>2000.0</td>\n",
       "    </tr>\n",
       "    <tr>\n",
       "      <th>1</th>\n",
       "      <td>202100000001</td>\n",
       "      <td>1</td>\n",
       "      <td>1</td>\n",
       "      <td>1978.0</td>\n",
       "    </tr>\n",
       "    <tr>\n",
       "      <th>2</th>\n",
       "      <td>202100000002</td>\n",
       "      <td>4</td>\n",
       "      <td>1</td>\n",
       "      <td>1983.0</td>\n",
       "    </tr>\n",
       "    <tr>\n",
       "      <th>3</th>\n",
       "      <td>202100000002</td>\n",
       "      <td>3</td>\n",
       "      <td>1</td>\n",
       "      <td>1993.0</td>\n",
       "    </tr>\n",
       "    <tr>\n",
       "      <th>4</th>\n",
       "      <td>202100000003</td>\n",
       "      <td>1</td>\n",
       "      <td>1</td>\n",
       "      <td>1995.0</td>\n",
       "    </tr>\n",
       "    <tr>\n",
       "      <th>...</th>\n",
       "      <td>...</td>\n",
       "      <td>...</td>\n",
       "      <td>...</td>\n",
       "      <td>...</td>\n",
       "    </tr>\n",
       "    <tr>\n",
       "      <th>129148</th>\n",
       "      <td>202100056516</td>\n",
       "      <td>4</td>\n",
       "      <td>1</td>\n",
       "      <td>1975.0</td>\n",
       "    </tr>\n",
       "    <tr>\n",
       "      <th>129149</th>\n",
       "      <td>202100056516</td>\n",
       "      <td>4</td>\n",
       "      <td>1</td>\n",
       "      <td>2002.0</td>\n",
       "    </tr>\n",
       "    <tr>\n",
       "      <th>129150</th>\n",
       "      <td>202100056517</td>\n",
       "      <td>3</td>\n",
       "      <td>1</td>\n",
       "      <td>1999.0</td>\n",
       "    </tr>\n",
       "    <tr>\n",
       "      <th>129151</th>\n",
       "      <td>202100056518</td>\n",
       "      <td>3</td>\n",
       "      <td>1</td>\n",
       "      <td>1968.0</td>\n",
       "    </tr>\n",
       "    <tr>\n",
       "      <th>129152</th>\n",
       "      <td>202100056518</td>\n",
       "      <td>3</td>\n",
       "      <td>1</td>\n",
       "      <td>1985.0</td>\n",
       "    </tr>\n",
       "  </tbody>\n",
       "</table>\n",
       "<p>129153 rows × 4 columns</p>\n",
       "</div>"
      ],
      "text/plain": [
       "             Num_Acc  grav  sexe  an_nais\n",
       "0       202100000001     3     1   2000.0\n",
       "1       202100000001     1     1   1978.0\n",
       "2       202100000002     4     1   1983.0\n",
       "3       202100000002     3     1   1993.0\n",
       "4       202100000003     1     1   1995.0\n",
       "...              ...   ...   ...      ...\n",
       "129148  202100056516     4     1   1975.0\n",
       "129149  202100056516     4     1   2002.0\n",
       "129150  202100056517     3     1   1999.0\n",
       "129151  202100056518     3     1   1968.0\n",
       "129152  202100056518     3     1   1985.0\n",
       "\n",
       "[129153 rows x 4 columns]"
      ]
     },
     "execution_count": 5,
     "metadata": {},
     "output_type": "execute_result"
    }
   ],
   "source": [
    "new_user_2021 = df_user_2021.drop(columns=[\"id_vehicule\",\"num_veh\",\"place\",\"catu\",\"trajet\",\"secu1\",\"secu2\",\"secu3\",\"locp\",\"actp\",\"etatp\"], axis=1)\n",
    "new_user_2021"
   ]
  },
  {
   "cell_type": "markdown",
   "id": "60b7cd0c",
   "metadata": {
    "tags": []
   },
   "source": [
    "<h3>Statistiques descriptives sur la table \"utilisateurs-2021.csv\"</h3>\n",
    "\n",
    "D'après le graphique ci-dessous et pour l'année 2021 :\n",
    "\n",
    "- 21,7 % des usagers accidentés et décédés sont des femmes \n",
    "- 28,7 % des usagers accidentés et indemnes sont des femmes\n",
    "- 28,5 % des usages accidentés ayant été blessé et hospitalisé sont des femmes\n",
    "- 36,4 % des usagers accidentés ayant été blessé léger sans hospitalisation sont des femmes\n",
    "\n",
    "-----------------------------------------------------------------------\n",
    "<i>grav = gravité de blessure de l'usager, les usagers accidentés sont classés en trois catégories de victimes plus les indemnes :\n",
    "1 – Indemne\n",
    "2 – Tué\n",
    "3 – Blessé hospitalisé\n",
    "4 – Blessé léger</i>"
   ]
  },
  {
   "cell_type": "code",
   "execution_count": 7,
   "id": "479c91a4",
   "metadata": {},
   "outputs": [
    {
     "data": {
      "image/png": "[encoded data removed]",
      "text/plain": [
       "<Figure size 640x480 with 1 Axes>"
      ]
     },
     "metadata": {},
     "output_type": "display_data"
    }
   ],
   "source": [
    "(\n",
    "new_user_2021\n",
    "    .query(\"grav!=-1\")\n",
    "    .query(\"sexe!=-1\")\n",
    "    .assign(sexe= lambda x: x.sexe -1)\n",
    "    .groupby(\"grav\")\n",
    "    .sexe.mean()\n",
    "    .plot(kind=\"barh\")\n",
    ");"
   ]
  }
 ],
 "metadata": {
  "kernelspec": {
   "display_name": "Python 3 (ipykernel)",
   "language": "python",
   "name": "python3"
  },
  "language_info": {
   "codemirror_mode": {
    "name": "ipython",
    "version": 3
   },
   "file_extension": ".py",
   "mimetype": "text/x-python",
   "name": "python",
   "nbconvert_exporter": "python",
   "pygments_lexer": "ipython3",
   "version": "3.10.10"
  }
 },
 "nbformat": 4,
 "nbformat_minor": 5
}
