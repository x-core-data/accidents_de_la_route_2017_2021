{
 "cells": [
  {
   "cell_type": "markdown",
   "id": "47fcf3c6-db64-4afe-9282-dc3d8fcd219d",
   "metadata": {},
   "source": [
    "### Chargement des librarires :"
   ]
  },
  {
   "cell_type": "code",
   "execution_count": 1,
   "id": "46fbb69c-8f74-4dde-a3b9-be663662bb12",
   "metadata": {},
   "outputs": [],
   "source": [
    "import pandas as pd\n",
    "import seaborn as sns\n",
    "import matplotlib as plt\n",
    "import numpy as np\n",
    "from functools import reduce"
   ]
  },
  {
   "cell_type": "markdown",
   "id": "4fc52e7d-d143-41cc-b7db-bc7e7eb71ed0",
   "metadata": {},
   "source": [
    "### Chargement de l'ensemble des bases de données :"
   ]
  },
  {
   "cell_type": "code",
   "execution_count": 2,
   "id": "30e918c2-537b-499c-8b00-f8189d7ebda9",
   "metadata": {},
   "outputs": [
    {
     "name": "stderr",
     "output_type": "stream",
     "text": [
      "C:\\Users\\Hugo\\AppData\\Local\\Temp\\ipykernel_5104\\860821144.py:1: DtypeWarning: Columns (4,10,12,13,14) have mixed types. Specify dtype option on import or set low_memory=False.\n",
      "  caracteristiques_2017_2021 = pd.read_csv(\"merged_tables/caracteristiques_2017_2021.csv\", sep=',')\n",
      "C:\\Users\\Hugo\\AppData\\Local\\Temp\\ipykernel_5104\\860821144.py:2: DtypeWarning: Columns (7,8,12,13) have mixed types. Specify dtype option on import or set low_memory=False.\n",
      "  lieux_2017_2021 = pd.read_csv(\"merged_tables/lieux_2017_2021.csv\", sep=',')\n",
      "C:\\Users\\Hugo\\AppData\\Local\\Temp\\ipykernel_5104\\860821144.py:3: DtypeWarning: Columns (8,12) have mixed types. Specify dtype option on import or set low_memory=False.\n",
      "  usagers_2017_2021 = pd.read_csv(\"merged_tables/usagers_2017_2021.csv\", sep=',')\n",
      "C:\\Users\\Hugo\\AppData\\Local\\Temp\\ipykernel_5104\\860821144.py:4: DtypeWarning: Columns (9) have mixed types. Specify dtype option on import or set low_memory=False.\n",
      "  vehicules_2017_2021 = pd.read_csv(\"merged_tables/vehicules_2017_2021.csv\", sep=',')\n"
     ]
    }
   ],
   "source": [
    "caracteristiques_2017_2021 = pd.read_csv(\"merged_tables/caracteristiques_2017_2021.csv\", sep=',')\n",
    "lieux_2017_2021 = pd.read_csv(\"merged_tables/lieux_2017_2021.csv\", sep=',')\n",
    "usagers_2017_2021 = pd.read_csv(\"merged_tables/usagers_2017_2021.csv\", sep=',')\n",
    "vehicules_2017_2021 = pd.read_csv(\"merged_tables/vehicules_2017_2021.csv\", sep=',')"
   ]
  },
  {
   "cell_type": "code",
   "execution_count": 3,
   "id": "5f431cf7-6148-446b-b96a-795c01c7f920",
   "metadata": {},
   "outputs": [],
   "source": [
    "#define list of DataFrames\n",
    "df_list = [caracteristiques_2017_2021, lieux_2017_2021, usagers_2017_2021, vehicules_2017_2021]\n",
    "\n",
    "#merge all DataFrames into one\n",
    "df_2017_2021 = reduce(lambda  left,right: pd.merge(left,right,on=['Num_Acc'],\n",
    "                                            how='outer'), df_list)"
   ]
  },
  {
   "cell_type": "code",
   "execution_count": 8,
   "id": "067b1f5a-46dd-4d6b-a35c-927a0b4fb1a8",
   "metadata": {},
   "outputs": [
    {
     "name": "stdout",
     "output_type": "stream",
     "text": [
      "<class 'pandas.core.frame.DataFrame'>\n",
      "Int64Index: 1209254 entries, 0 to 1209253\n",
      "Data columns (total 58 columns):\n",
      " #   Column         Non-Null Count    Dtype  \n",
      "---  ------         --------------    -----  \n",
      " 0   Num_Acc        1209254 non-null  int64  \n",
      " 1   year           1209254 non-null  int64  \n",
      " 2   month          1209254 non-null  int64  \n",
      " 3   day            1209254 non-null  int64  \n",
      " 4   hrmn           1209254 non-null  object \n",
      " 5   lum            1209246 non-null  float64\n",
      " 6   agg            1209254 non-null  int64  \n",
      " 7   int            1209246 non-null  float64\n",
      " 8   atm            1209160 non-null  float64\n",
      " 9   col            1200771 non-null  float64\n",
      " 10  com            1209254 non-null  object \n",
      " 11  adr            1196460 non-null  object \n",
      " 12  lat            1164457 non-null  object \n",
      " 13  long           1164457 non-null  object \n",
      " 14  dep            1209254 non-null  object \n",
      " 15  catr           1209254 non-null  int64  \n",
      " 16  voie           1028265 non-null  object \n",
      " 17  v1             3917 non-null     float64\n",
      " 18  v2             77823 non-null    object \n",
      " 19  circ           1152432 non-null  float64\n",
      " 20  nbv            1161729 non-null  float64\n",
      " 21  pr             942208 non-null   object \n",
      " 22  pr1            915595 non-null   object \n",
      " 23  vosp           95697 non-null    float64\n",
      " 24  prof           1197667 non-null  float64\n",
      " 25  plan           1167705 non-null  float64\n",
      " 26  lartpc         71456 non-null    object \n",
      " 27  larrout        638678 non-null   object \n",
      " 28  surf           1197166 non-null  float64\n",
      " 29  infra          168762 non-null   float64\n",
      " 30  situ           1175960 non-null  float64\n",
      " 31  env1           217544 non-null   float64\n",
      " 32  vma            691290 non-null   float64\n",
      " 33  place          1185677 non-null  float64\n",
      " 34  catu           1209254 non-null  int64  \n",
      " 35  grav           1209155 non-null  float64\n",
      " 36  sexe           1203546 non-null  float64\n",
      " 37  trajet         902543 non-null   float64\n",
      " 38  secu           495193 non-null   float64\n",
      " 39  locp           51353 non-null    float64\n",
      " 40  actp           52242 non-null    object \n",
      " 41  etatp          52421 non-null    float64\n",
      " 42  an_nais        1203398 non-null  float64\n",
      " 43  num_veh_x      1209254 non-null  object \n",
      " 44  id_vehicule_x  700456 non-null   object \n",
      " 45  secu1          659431 non-null   float64\n",
      " 46  secu2          165320 non-null   float64\n",
      " 47  secu3          5140 non-null     float64\n",
      " 48  senc           1078763 non-null  float64\n",
      " 49  catv           1207936 non-null  float64\n",
      " 50  occutc         11889 non-null    float64\n",
      " 51  obs            139346 non-null   float64\n",
      " 52  obsm           1042236 non-null  float64\n",
      " 53  choc           1147925 non-null  float64\n",
      " 54  manv           1134099 non-null  float64\n",
      " 55  num_veh_y      1209254 non-null  object \n",
      " 56  id_vehicule_y  700456 non-null   object \n",
      " 57  motor          642059 non-null   float64\n",
      "dtypes: float64(34), int64(7), object(17)\n",
      "memory usage: 544.3+ MB\n"
     ]
    }
   ],
   "source": [
    "df_2017_2021.info()"
   ]
  },
  {
   "cell_type": "code",
   "execution_count": 7,
   "id": "68bfd492-9e2c-44a3-93b7-2cb39bba80b7",
   "metadata": {},
   "outputs": [],
   "source": [
    "df_2017_2021.to_csv('data.csv')"
   ]
  },
  {
   "cell_type": "code",
   "execution_count": 4,
   "id": "db35c6fe-8a56-4c18-9424-df15f11c9947",
   "metadata": {},
   "outputs": [],
   "source": [
    "#regroupe les trois colonnes jour/mois/année en une seule au format adapté\n",
    "caracteristiques_2017_2021['full_date'] = pd.to_datetime(caracteristiques_2017_2021[['year', 'month', 'day']])"
   ]
  },
  {
   "cell_type": "code",
   "execution_count": 5,
   "id": "4d4e00b3-6db4-4b49-be20-ec95ad5ad730",
   "metadata": {},
   "outputs": [
    {
     "data": {
      "text/plain": [
       "Friday       47009\n",
       "Thursday     41906\n",
       "Tuesday      41154\n",
       "Wednesday    40604\n",
       "Saturday     39242\n",
       "Monday       38032\n",
       "Sunday       33639\n",
       "Name: full_date, dtype: int64"
      ]
     },
     "execution_count": 5,
     "metadata": {},
     "output_type": "execute_result"
    }
   ],
   "source": [
    "# Le vendredi est le jour de la semaine regroupant le plus d'accidents, le dimanche est le jour le moins accidenté\n",
    "caracteristiques_2017_2021['full_date'].dt.day_name().value_counts()"
   ]
  }
 ],
 "metadata": {
  "kernelspec": {
   "display_name": "Python 3 (ipykernel)",
   "language": "python",
   "name": "python3"
  },
  "language_info": {
   "codemirror_mode": {
    "name": "ipython",
    "version": 3
   },
   "file_extension": ".py",
   "mimetype": "text/x-python",
   "name": "python",
   "nbconvert_exporter": "python",
   "pygments_lexer": "ipython3",
   "version": "3.10.10"
  }
 },
 "nbformat": 4,
 "nbformat_minor": 5
}
